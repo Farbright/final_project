{
 "cells": [
  {
   "cell_type": "markdown",
   "metadata": {},
   "source": [
    "                                                Final Project\n",
    "\n",
    "Project Overview: The purpose of the project is to investigate the relationship between the Federal Funds rate and the Gross Private Domestic Investment. GDPI is the amount of business expenditures, landlord expenditures, and business inventory changes the measure of physical investment used in computing GDP in the measurement of nations' economic activity. This is an important component of GDP because it provides an indicator of the future productive capacity of the economy. If interest rates are low, the presumption is that consumers can borrow more and, consequently, invest more. For instance, lower interest rates on car loans, home mortgages, and credit cards make them more accessible to consumers."
   ]
  },
  {
   "cell_type": "markdown",
   "metadata": {},
   "source": []
  },
  {
   "cell_type": "markdown",
   "metadata": {},
   "source": [
    "This project has 3 parts"
   ]
  },
  {
   "cell_type": "code",
   "execution_count": null,
   "metadata": {},
   "outputs": [],
   "source": []
  }
 ],
 "metadata": {
  "kernelspec": {
   "display_name": "Python 3",
   "language": "python",
   "name": "python3"
  },
  "language_info": {
   "codemirror_mode": {
    "name": "ipython",
    "version": 3
   },
   "file_extension": ".py",
   "mimetype": "text/x-python",
   "name": "python",
   "nbconvert_exporter": "python",
   "pygments_lexer": "ipython3",
   "version": "3.6.10"
  }
 },
 "nbformat": 4,
 "nbformat_minor": 4
}
